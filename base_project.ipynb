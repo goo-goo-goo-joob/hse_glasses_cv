{
 "cells": [
  {
   "cell_type": "markdown",
   "id": "95d45d87-bdae-4183-bdeb-dd3000e0e86b",
   "metadata": {},
   "source": [
    "# Project setup\n",
    "\n",
    "Ограничения к внедрению и использованию системы:\n",
    "  - скорость работы?\n",
    "  - \n",
    "  \n",
    "Датасеты:\n",
    "  - датасет с разметкой из GAN https://www.kaggle.com/datasets/jeffheaton/glasses-or-no-glasses\n",
    "      - 5k изображений\n",
    "  - датасет с реальными людьми, есть фото одного и того же человека в очках и без https://github.com/cleardusk/MeGlass\n",
    "      - 55k изображений \n",
    "      - может исользоваться для разных постановок задач\n",
    "      - очки только в черной оправе? \n",
    "      \n",
    "Данные:\n",
    "  - Данных достаточно?\n",
    "  - Однородные?\n",
    "  - Сбалансированные?\n",
    "  \n",
    "Метрики:\n",
    "  - ROC AUC\n",
    "  - Accuracy\n",
    "  - Precision, Recall, F1\n",
    "  \n",
    "Аугментации:\n",
    "  - Яркость/констрастность\n",
    "  - Шум\n",
    "  - Повороты?\n",
    "  - Кропы?\n",
    "  \n",
    "Design choices:\n",
    "  - ~model from scratch~ - **@Алексей (aciishell) @Мария**\n",
    "  - использование предобученной модели и дообучение - **@Алексей (digi boi)**\n",
    "  \n",
    "Алгоритмы:\n",
    "  - различные архитектуры ResNet/Unet **@Алексей (digi boi)**\n",
    "  - ~Шум, SimCLR - metric learning (unsupervised)~ **@Алексей (aciishell) @Мария**\n",
    "  - отдельная модель для определения человека (наверное есть что-то предобученное) - **@Андрей**\n",
    "  - проверить различные кейсы - **@Андрей**\n",
    "  - метрики - **@Алексей (digi boi) @Мария**\n",
    "  - инференс - **@Алексей (aciishell) @Андрей**\n",
    "      \n",
    "Статьи: **@Илья @Василий**\n",
    "  - статья по датасету с очками https://arxiv.org/pdf/1806.01196.pdf\n",
    "  - \n",
    "  \n",
    "Возможные эксперименты (по результатам мини-исследования):\n",
    "  - добавление unsupervised данных из GAN https://thispersondoesnotexist.com/\n",
    "  - ViT\n",
    "  - Асtive learning на проде?\n",
    "  - Экпоненциальное сглаживание разметки?\n",
    "  - "
   ]
  },
  {
   "cell_type": "code",
   "execution_count": null,
   "id": "cfc20f4b-12cf-4a02-9c44-54ea2e67c526",
   "metadata": {},
   "outputs": [],
   "source": []
  }
 ],
 "metadata": {
  "kernelspec": {
   "display_name": "Python 3 (ipykernel)",
   "language": "python",
   "name": "python3"
  },
  "language_info": {
   "codemirror_mode": {
    "name": "ipython",
    "version": 3
   },
   "file_extension": ".py",
   "mimetype": "text/x-python",
   "name": "python",
   "nbconvert_exporter": "python",
   "pygments_lexer": "ipython3",
   "version": "3.10.8"
  }
 },
 "nbformat": 4,
 "nbformat_minor": 5
}
