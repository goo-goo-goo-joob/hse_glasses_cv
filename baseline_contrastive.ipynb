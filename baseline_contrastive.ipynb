{
 "cells": [
  {
   "cell_type": "markdown",
   "id": "4286ca37-cf27-4a07-ac29-3b096af80454",
   "metadata": {},
   "source": [
    "## В данном ноутбуке показан пример обучения модели классификации людей в очках и без\n",
    "\n",
    "В качестве обучающей выборки используется синтетический датасет с [kaggle](https://www.kaggle.com/datasets/jeffheaton/glasses-or-no-glasses)"
   ]
  },
  {
   "cell_type": "code",
   "execution_count": null,
   "id": "009cbfbf-1cd5-417c-be7b-2b8a419d3174",
   "metadata": {
    "tags": []
   },
   "outputs": [],
   "source": [
    "import multiprocessing\n",
    "import os\n",
    "import pickle\n",
    "import sys\n",
    "import typing\n",
    "import uuid\n",
    "import zipfile\n",
    "from collections import Counter\n",
    "\n",
    "import cv2\n",
    "import matplotlib.pyplot as plt\n",
    "import numpy as np\n",
    "import pandas as pd\n",
    "import scipy\n",
    "import torch\n",
    "import torch.nn.functional as F\n",
    "from PIL import Image\n",
    "from sklearn.metrics import accuracy_score, f1_score, roc_auc_score\n",
    "from sklearn.model_selection import train_test_split\n",
    "from torch.utils.tensorboard import SummaryWriter\n",
    "from torchvision import transforms\n",
    "from torchvision.models import resnet\n",
    "from tqdm.auto import tqdm\n",
    "\n",
    "tqdm.pandas()\n",
    "\n",
    "\n",
    "print(sys.version_info)\n",
    "print(torch.__version__)\n",
    "print(torch.cuda.is_available())"
   ]
  },
  {
   "cell_type": "code",
   "execution_count": null,
   "id": "c45b4a03-2a62-4e7b-b101-4036d68b7e5d",
   "metadata": {
    "tags": []
   },
   "outputs": [],
   "source": [
    "os.environ[\"WANDB_CONSOLE\"] = \"off\"\n",
    "# torch.set_num_threads(8)\n",
    "# torch.set_num_interop_threads(8)\n",
    "\n",
    "import wandb"
   ]
  },
  {
   "cell_type": "code",
   "execution_count": null,
   "id": "1bffcacb-be79-4c5d-8358-cc1b8be85c57",
   "metadata": {
    "tags": []
   },
   "outputs": [],
   "source": [
    "root = \"/home/asciishell/s3/jupyter.asciishell.ru\""
   ]
  },
  {
   "cell_type": "code",
   "execution_count": null,
   "id": "9bdbddf6-99a3-4b7d-8763-a04d6437c1d0",
   "metadata": {
    "tags": []
   },
   "outputs": [],
   "source": [
    "df = pd.read_csv(f\"{root}/train.csv\")[[\"id\", \"glasses\"]].copy()"
   ]
  },
  {
   "cell_type": "code",
   "execution_count": null,
   "id": "ea59e484-22c6-4d9a-8d73-adb1bfa92a3b",
   "metadata": {
    "tags": []
   },
   "outputs": [],
   "source": [
    "df_train, df_valid = train_test_split(df, test_size=0.3, random_state=42)"
   ]
  },
  {
   "cell_type": "markdown",
   "id": "3445c32e-aff2-407b-a2b8-590ff83b2cfc",
   "metadata": {},
   "source": [
    "Используются следующие аугментации для изображений:\n",
    "- Случайный кроп\n",
    "- Зеркальное отражение\n",
    "- Смещение цветов\n",
    "- Перевод в серый цвет"
   ]
  },
  {
   "cell_type": "code",
   "execution_count": null,
   "id": "4886e0a8-ed2f-4402-bde2-a78d37f60eff",
   "metadata": {
    "tags": []
   },
   "outputs": [],
   "source": [
    "train_transform = transforms.Compose(\n",
    "    [\n",
    "        transforms.RandomResizedCrop(224, scale=(0.8, 1.0)),\n",
    "        transforms.RandomHorizontalFlip(p=0.5),\n",
    "        transforms.RandomApply([transforms.ColorJitter(0.4, 0.4, 0.4, 0.1)], p=0.8),\n",
    "        transforms.RandomGrayscale(p=0.2),\n",
    "        transforms.ToTensor(),\n",
    "        transforms.Normalize([0.4914, 0.4822, 0.4465], [0.2023, 0.1994, 0.2010]),\n",
    "    ]\n",
    ")\n",
    "\n",
    "test_transform = transforms.Compose(\n",
    "    [\n",
    "        transforms.ToTensor(),\n",
    "        transforms.Normalize([0.4914, 0.4822, 0.4465], [0.2023, 0.1994, 0.2010]),\n",
    "    ]\n",
    ")\n",
    "\n",
    "\n",
    "class FaseDataset(torch.utils.data.Dataset):\n",
    "    def __init__(\n",
    "        self,\n",
    "        root: str,\n",
    "        size: tuple[int, int],\n",
    "        sample: pd.DataFrame,\n",
    "        transform: typing.Callable,\n",
    "    ):\n",
    "        self.root = root\n",
    "        self.size = size\n",
    "        self.ids = sample[\"id\"].values\n",
    "        self.targets = sample[\"glasses\"].values\n",
    "        self.transform = transform\n",
    "\n",
    "    def __len__(self):\n",
    "        return len(self.ids)\n",
    "\n",
    "    def __getitem__(self, index):\n",
    "        img, target = self.ids[index], self.targets[index]\n",
    "        img = Image.open(self.root.format(img))\n",
    "        img = img.resize(self.size, Image.Resampling.BILINEAR)\n",
    "\n",
    "        pos_1 = self.transform(img)\n",
    "        pos_2 = self.transform(img)\n",
    "\n",
    "        return pos_1, pos_2, target"
   ]
  },
  {
   "cell_type": "code",
   "execution_count": null,
   "id": "7bf92853-62d7-4c20-8210-bd00e86959ba",
   "metadata": {
    "tags": []
   },
   "outputs": [],
   "source": [
    "im_size = (224, 224)\n",
    "batch_size = 256\n",
    "train_loader = torch.utils.data.DataLoader(\n",
    "    FaseDataset(f\"{root}/faces-spring-2020/faces-spring-2020/face-{{}}.png\", im_size, df_train, train_transform),\n",
    "    batch_size=batch_size,\n",
    "    shuffle=True,\n",
    "    num_workers=4,\n",
    "    pin_memory=True,\n",
    "    drop_last=False,\n",
    ")\n",
    "test_loader = torch.utils.data.DataLoader(\n",
    "    FaseDataset(f\"{root}/faces-spring-2020/faces-spring-2020/face-{{}}.png\", im_size, df_valid, test_transform),\n",
    "    batch_size=batch_size,\n",
    "    shuffle=True,\n",
    "    num_workers=4,\n",
    "    pin_memory=True,\n",
    "    drop_last=False,\n",
    ")"
   ]
  },
  {
   "cell_type": "markdown",
   "id": "0156aa04-3357-4b43-806e-6e6989703d5e",
   "metadata": {},
   "source": [
    "В качестве базовой модели используется resnet18 с 2 головами - одна для обучения эмбеддингов, вторая для классификации.\n",
    "Опционально можно выбрать другую базовую модель (resnet34 или 50).\n",
    "\n",
    "Дополнительно используется NT-Xent loss в SimCLR подходе.\n",
    "https://arxiv.org/pdf/2002.05709.pdf"
   ]
  },
  {
   "cell_type": "code",
   "execution_count": null,
   "id": "56f96ecf-2cd3-434b-baf9-07e8aaf2d472",
   "metadata": {
    "tags": []
   },
   "outputs": [],
   "source": [
    "class Model(torch.nn.Module):\n",
    "    def __init__(self, feature_dim=128, arch=\"resnet18\", init=True):\n",
    "        super(Model, self).__init__()\n",
    "\n",
    "        self.f = []\n",
    "\n",
    "        if arch == \"resnet18\":\n",
    "            w = resnet.ResNet18_Weights.DEFAULT if init else None\n",
    "            module = resnet.resnet18(weights=w)\n",
    "            in_size = 512\n",
    "        elif arch == \"resnet34\":\n",
    "            w = resnet.ResNet34_Weights.DEFAULT if init else None\n",
    "            module = resnet.resnet34(weights=w)\n",
    "            in_size = 512\n",
    "        elif arch == \"resnet50\":\n",
    "            w = resnet.ResNet50_Weights.DEFAULT if init else None\n",
    "            module = resnet.resnet50(weights=w)\n",
    "            in_size = 2048\n",
    "        else:\n",
    "            raise Exception(\"Unknown module {}\".format(repr(arch)))\n",
    "        for name, module in module.named_children():\n",
    "            # if name == \"conv1\":\n",
    "            #     module = torch.nn.Conv2d(3, 64, kernel_size=3, stride=1, padding=1, bias=False)\n",
    "            # if not isinstance(module, torch.nn.Linear) and not isinstance(module, torch.nn.MaxPool2d):\n",
    "            if not isinstance(module, torch.nn.Linear):\n",
    "                self.f.append(module)\n",
    "        # encoder\n",
    "        self.f = torch.nn.Sequential(*self.f)\n",
    "        self.c = torch.nn.Linear(in_size, 2, bias=True)\n",
    "        # projection head\n",
    "        self.g = torch.nn.Sequential(\n",
    "            torch.nn.Linear(in_size, 512, bias=False),\n",
    "            torch.nn.BatchNorm1d(512),\n",
    "            torch.nn.ReLU(inplace=True),\n",
    "            torch.nn.Linear(512, feature_dim, bias=True),\n",
    "        )\n",
    "\n",
    "    def forward(self, x):\n",
    "        x = self.f(x)\n",
    "        feature = torch.flatten(x, start_dim=1)\n",
    "        out = self.g(feature)\n",
    "        proba = self.c(feature)\n",
    "        return F.normalize(out, dim=-1), proba\n",
    "\n",
    "\n",
    "class ContrastiveLoss(torch.nn.Module):\n",
    "    def __init__(self, temperature, cuda):\n",
    "        super().__init__()\n",
    "        self.temperature = temperature\n",
    "        self.cuda = cuda\n",
    "\n",
    "    def get_negative_mask(self, batch_size):\n",
    "        negative_mask = torch.ones((batch_size, 2 * batch_size), dtype=bool)\n",
    "        for i in range(batch_size):\n",
    "            negative_mask[i, i] = 0\n",
    "            negative_mask[i, i + batch_size] = 0\n",
    "\n",
    "        negative_mask = torch.cat((negative_mask, negative_mask), 0)\n",
    "        return negative_mask\n",
    "\n",
    "    def forward(self, out_1, out_2):\n",
    "        batch_size = out_1.shape[0]\n",
    "\n",
    "        # neg score\n",
    "        out = torch.cat([out_1, out_2], dim=0)\n",
    "        neg = torch.exp(torch.mm(out, out.t().contiguous()) / self.temperature)\n",
    "        mask = self.get_negative_mask(batch_size)\n",
    "        if self.cuda:\n",
    "            mask = mask.cuda()\n",
    "        neg = neg.masked_select(mask).view(2 * batch_size, -1)\n",
    "\n",
    "        # pos score\n",
    "        pos = torch.exp(torch.sum(out_1 * out_2, dim=-1) / self.temperature)\n",
    "        pos = torch.cat([pos, pos], dim=0)\n",
    "\n",
    "        # estimator g()\n",
    "        Ng = neg.sum(dim=-1)\n",
    "\n",
    "        # contrastive loss\n",
    "        loss = (-torch.log(pos / (pos + Ng))).mean()\n",
    "\n",
    "        return loss"
   ]
  },
  {
   "cell_type": "code",
   "execution_count": null,
   "id": "eb881ade-27bc-4e4f-88f0-c62629222b3c",
   "metadata": {
    "tags": []
   },
   "outputs": [],
   "source": [
    "def main(\n",
    "    *,\n",
    "    model,\n",
    "    criterion_cls,\n",
    "    criterion_contrastive,\n",
    "    optimizer,\n",
    "    writer,\n",
    "    train_loader,\n",
    "    valid_loader,\n",
    "    checkpoint_path,\n",
    "    cuda=True,\n",
    "    epochs=200,\n",
    "    alpha=0.1,\n",
    "):\n",
    "    if cuda:\n",
    "        model = model.cuda()\n",
    "    model = torch.nn.DataParallel(model)\n",
    "    step = 0\n",
    "    for epoch in range(1, epochs + 1):\n",
    "        epoch_alpha = alpha + (1.0 - alpha) * (epoch / epochs)\n",
    "        writer.add_scalar(\"train/alpha\", epoch_alpha, epoch)\n",
    "        model.train()\n",
    "        total_loss, total_num = 0.0, 0\n",
    "        for pos_1, pos_2, target in tqdm(train_loader, desc=f\"Train {epoch}\"):\n",
    "            if cuda:\n",
    "                pos_1 = pos_1.cuda(non_blocking=True)\n",
    "                pos_2 = pos_2.cuda(non_blocking=True)\n",
    "                target = target.cuda(non_blocking=True)\n",
    "            out_1, out_1_proba = model(pos_1)\n",
    "            out_2, out_2_proba = model(pos_2)\n",
    "\n",
    "            loss = epoch_alpha * (criterion_cls(out_1_proba, target) + criterion_cls(out_2_proba, target)) + (\n",
    "                1.0 - epoch_alpha\n",
    "            ) * criterion_contrastive(out_1, out_2)\n",
    "            writer.add_scalar(\"loss/train\", loss, step)\n",
    "            step += 1\n",
    "\n",
    "            optimizer.zero_grad()\n",
    "            loss.backward()\n",
    "            optimizer.step()\n",
    "\n",
    "            total_num += batch_size\n",
    "            total_loss += loss.item() * batch_size\n",
    "\n",
    "        train_loss = total_loss / total_num\n",
    "\n",
    "        if epoch % 1 == 0:\n",
    "            with torch.no_grad():\n",
    "                model.eval()\n",
    "                predicts = []\n",
    "                targets = []\n",
    "                for pos_1, pos_2, target in tqdm(valid_loader, desc=f\"Valid {epoch}\"):\n",
    "                    if cuda:\n",
    "                        pos_1 = pos_1.cuda(non_blocking=True)\n",
    "                    _, predict = model(pos_1)\n",
    "                    predicts.extend(predict.cpu().numpy())\n",
    "                    targets.extend(target.cpu().numpy())\n",
    "            predicts = np.stack(predicts)\n",
    "            targets = np.stack(targets)\n",
    "            writer.add_scalar(\"valid/f1w\", f1_score(targets, predicts.argmax(axis=1), average=\"weighted\"), epoch)\n",
    "            writer.add_scalar(\"valid/acc\", accuracy_score(targets, predicts.argmax(axis=1)), epoch)\n",
    "            writer.add_scalar(\n",
    "                \"valid/roc_auc\",\n",
    "                roc_auc_score(targets, scipy.special.softmax(predicts, axis=1)[:, 1]),\n",
    "                epoch,\n",
    "            )\n",
    "            torch.save(model.state_dict(), checkpoint_path.format(epoch))\n",
    "        writer.flush()\n",
    "    writer.close()"
   ]
  },
  {
   "cell_type": "code",
   "execution_count": null,
   "id": "e3d8b06b-e841-484b-8b54-eb6d0b230953",
   "metadata": {
    "tags": []
   },
   "outputs": [],
   "source": [
    "def main2():\n",
    "    cuda = False\n",
    "    epochs = 10\n",
    "    model_arch = \"resnet18\"\n",
    "    init = True\n",
    "    cls_w = 0.5\n",
    "    run = f\"glass-{model_arch}-init={init}-cls_w={cls_w}-bs={batch_size}\"\n",
    "    os.makedirs(run, exist_ok=True)\n",
    "    wandb.init(\n",
    "        project=\"glasses_cv\",\n",
    "        dir=run,\n",
    "        name=run,\n",
    "        config={\n",
    "            \"model\": model_arch,\n",
    "            \"init\": init,\n",
    "            \"classification_weight\": cls_w,\n",
    "            \"batch_size\": batch_size,\n",
    "            \"epochs\": epochs,\n",
    "        },\n",
    "    )\n",
    "    wandb.tensorboard.patch(root_logdir=run)\n",
    "    writer = SummaryWriter(run)\n",
    "\n",
    "    model = Model(64, model_arch, init)\n",
    "    criterion_cls = torch.nn.CrossEntropyLoss()\n",
    "    criterion_contrastive = ContrastiveLoss(0.5, cuda)\n",
    "    optimizer = torch.optim.Adam(model.parameters(), lr=1e-3, weight_decay=1e-6)\n",
    "\n",
    "    print(\"Start\", run)\n",
    "    main(\n",
    "        model=model,\n",
    "        criterion_cls=criterion_cls,\n",
    "        criterion_contrastive=criterion_contrastive,\n",
    "        optimizer=optimizer,\n",
    "        writer=writer,\n",
    "        train_loader=train_loader,\n",
    "        valid_loader=test_loader,\n",
    "        checkpoint_path=f\"{run}/model_{{}}.pt\",\n",
    "        cuda=cuda,\n",
    "        epochs=epochs,\n",
    "        alpha=cls_w,\n",
    "    )\n",
    "\n",
    "    writer.close()\n",
    "    wandb.finish()\n",
    "    wandb.tensorboard.unpatch()\n",
    "\n",
    "\n",
    "if __name__ == \"__main__\":\n",
    "    main2()"
   ]
  },
  {
   "cell_type": "markdown",
   "id": "933d7649-af87-4bd5-bb37-cefc898f5379",
   "metadata": {},
   "source": [
    "Получаем предсказания модели"
   ]
  },
  {
   "cell_type": "code",
   "execution_count": 10,
   "id": "ecbe0350-ac49-47de-862a-500da292ff00",
   "metadata": {
    "execution": {
     "iopub.execute_input": "2022-12-10T19:13:06.917678Z",
     "iopub.status.busy": "2022-12-10T19:13:06.916938Z",
     "iopub.status.idle": "2022-12-10T19:13:07.113529Z",
     "shell.execute_reply": "2022-12-10T19:13:07.112800Z",
     "shell.execute_reply.started": "2022-12-10T19:13:06.917654Z"
    },
    "tags": []
   },
   "outputs": [],
   "source": [
    "model = Model(64, arch=\"resnet18\")\n",
    "model = torch.nn.DataParallel(model)\n",
    "model.load_state_dict(torch.load('./glass-resnet18-init=True-cls_w=0.5-bs=128/model_9.pt'))\n",
    "model.eval();"
   ]
  },
  {
   "cell_type": "code",
   "execution_count": 11,
   "id": "efb624c6-92ec-44a3-bc77-0b1cd95d2df2",
   "metadata": {
    "execution": {
     "iopub.execute_input": "2022-12-10T19:13:15.536606Z",
     "iopub.status.busy": "2022-12-10T19:13:15.536093Z",
     "iopub.status.idle": "2022-12-10T19:13:15.541199Z",
     "shell.execute_reply": "2022-12-10T19:13:15.540673Z",
     "shell.execute_reply.started": "2022-12-10T19:13:15.536582Z"
    }
   },
   "outputs": [],
   "source": [
    "def predict_with_model(model, images):\n",
    "    if isinstance(images, Image.Image):\n",
    "        images = [images]\n",
    "    images = [img.resize((224, 224), Image.Resampling.BILINEAR) for img in images]\n",
    "    test_transforms = transforms.Compose(\n",
    "        [\n",
    "            transforms.ToTensor(),\n",
    "            transforms.Normalize([0.4914, 0.4822, 0.4465], [0.2023, 0.1994, 0.2010]),\n",
    "        ]\n",
    "    )\n",
    "    images = torch.stack([test_transforms(img) for img in images], dim=0)\n",
    "    with torch.no_grad():\n",
    "        emb, proba = model(images)\n",
    "    proba = scipy.special.softmax(proba, axis=1)\n",
    "    return emb.cpu().numpy(), proba.cpu().numpy()"
   ]
  },
  {
   "cell_type": "code",
   "execution_count": 15,
   "id": "f80bbbc9-f306-4905-b043-44880ff21b26",
   "metadata": {
    "execution": {
     "iopub.execute_input": "2022-12-10T19:14:05.393296Z",
     "iopub.status.busy": "2022-12-10T19:14:05.392575Z",
     "iopub.status.idle": "2022-12-10T19:14:05.466502Z",
     "shell.execute_reply": "2022-12-10T19:14:05.465872Z",
     "shell.execute_reply.started": "2022-12-10T19:14:05.393271Z"
    },
    "tags": []
   },
   "outputs": [
    {
     "name": "stdout",
     "output_type": "stream",
     "text": [
      "0.00019684115\n"
     ]
    },
    {
     "data": {
      "image/png": "[encoded data removed]",
      "text/plain": [
       "<PIL.Image.Image image mode=RGB size=128x128>"
      ]
     },
     "execution_count": 15,
     "metadata": {},
     "output_type": "execute_result"
    }
   ],
   "source": [
    "img = Image.open(f\"{root}/faces-spring-2020/faces-spring-2020/face-1.png\")\n",
    "_, proba = predict_with_model(model, img)\n",
    "print(proba[0][1])\n",
    "img.resize((128, 128))"
   ]
  },
  {
   "cell_type": "code",
   "execution_count": null,
   "id": "0fefe5b9-0b97-42f4-abf3-763168d1cc83",
   "metadata": {},
   "outputs": [],
   "source": []
  }
 ],
 "metadata": {
  "kernelspec": {
   "display_name": "Python 3 (ipykernel)",
   "language": "python",
   "name": "python3"
  },
  "language_info": {
   "codemirror_mode": {
    "name": "ipython",
    "version": 3
   },
   "file_extension": ".py",
   "mimetype": "text/x-python",
   "name": "python",
   "nbconvert_exporter": "python",
   "pygments_lexer": "ipython3",
   "version": "3.10.8"
  }
 },
 "nbformat": 4,
 "nbformat_minor": 5
}
