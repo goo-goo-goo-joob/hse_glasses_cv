{
 "cells": [
  {
   "cell_type": "code",
   "execution_count": 1,
   "id": "9afacc0e-1b94-4351-b561-86e0d806e2f2",
   "metadata": {
    "execution": {
     "iopub.execute_input": "2022-12-15T14:42:25.444605Z",
     "iopub.status.busy": "2022-12-15T14:42:25.444156Z",
     "iopub.status.idle": "2022-12-15T14:43:01.099704Z",
     "shell.execute_reply": "2022-12-15T14:43:01.098980Z",
     "shell.execute_reply.started": "2022-12-15T14:42:25.444548Z"
    }
   },
   "outputs": [
    {
     "name": "stdout",
     "output_type": "stream",
     "text": [
      "sys.version_info(major=3, minor=10, micro=8, releaselevel='final', serial=0)\n",
      "1.12.1+cu102\n",
      "False\n"
     ]
    }
   ],
   "source": [
    "import multiprocessing\n",
    "import os\n",
    "import pickle\n",
    "import sys\n",
    "import typing\n",
    "import uuid\n",
    "import zipfile\n",
    "import gc\n",
    "from collections import Counter\n",
    "\n",
    "import cv2\n",
    "import numpy as np\n",
    "import pandas as pd\n",
    "import scipy\n",
    "import torch\n",
    "import torch.nn.functional as F\n",
    "import wandb\n",
    "from sklearn.metrics import accuracy_score, f1_score, roc_auc_score\n",
    "from sklearn.model_selection import train_test_split\n",
    "from torch.utils.tensorboard import SummaryWriter\n",
    "from torchvision import transforms\n",
    "from torchvision.models import resnet\n",
    "from tqdm.auto import tqdm\n",
    "\n",
    "tqdm.pandas()\n",
    "\n",
    "import warnings\n",
    "warnings.filterwarnings(\"ignore\")\n",
    "import logging\n",
    "logger = logging.getLogger(__name__)\n",
    "logger.setLevel('ERROR')\n",
    "import matplotlib.pyplot as plt\n",
    "logger = logging.getLogger('matplotlib')\n",
    "logger.setLevel('ERROR')\n",
    "import PIL\n",
    "from PIL import Image\n",
    "logger = logging.getLogger('PIL')\n",
    "logger.setLevel('ERROR')\n",
    "\n",
    "\n",
    "print(sys.version_info)\n",
    "print(torch.__version__)\n",
    "print(torch.cuda.is_available())"
   ]
  },
  {
   "cell_type": "code",
   "execution_count": 2,
   "id": "b4b77817-24f9-4950-8ce3-84081ea8751e",
   "metadata": {
    "execution": {
     "iopub.execute_input": "2022-12-15T14:43:01.101636Z",
     "iopub.status.busy": "2022-12-15T14:43:01.101125Z",
     "iopub.status.idle": "2022-12-15T14:43:01.156380Z",
     "shell.execute_reply": "2022-12-15T14:43:01.155309Z",
     "shell.execute_reply.started": "2022-12-15T14:43:01.101611Z"
    }
   },
   "outputs": [],
   "source": [
    "torch.set_num_threads(48)\n",
    "torch.set_num_interop_threads(48)"
   ]
  },
  {
   "cell_type": "code",
   "execution_count": 3,
   "id": "63eba5ad-fbfd-48aa-917b-e6894846fcb1",
   "metadata": {
    "execution": {
     "iopub.execute_input": "2022-12-15T14:43:01.157685Z",
     "iopub.status.busy": "2022-12-15T14:43:01.157259Z",
     "iopub.status.idle": "2022-12-15T14:43:01.185298Z",
     "shell.execute_reply": "2022-12-15T14:43:01.184597Z",
     "shell.execute_reply.started": "2022-12-15T14:43:01.157664Z"
    },
    "tags": []
   },
   "outputs": [],
   "source": [
    "root = \"/home/asciishell/s3/jupyter.asciishell.ru\""
   ]
  },
  {
   "cell_type": "code",
   "execution_count": 4,
   "id": "3d5684a1-075c-474b-9a2a-189dcec25746",
   "metadata": {
    "execution": {
     "iopub.execute_input": "2022-12-15T14:43:01.186490Z",
     "iopub.status.busy": "2022-12-15T14:43:01.186173Z",
     "iopub.status.idle": "2022-12-15T14:43:02.087629Z",
     "shell.execute_reply": "2022-12-15T14:43:02.087005Z",
     "shell.execute_reply.started": "2022-12-15T14:43:01.186468Z"
    }
   },
   "outputs": [],
   "source": [
    "df = pd.read_csv(f\"{root}/train.csv\")[[\"id\", \"glasses\"]].copy()"
   ]
  },
  {
   "cell_type": "code",
   "execution_count": 5,
   "id": "54fccc3b-4471-4f90-ae7e-15e0f04f3f17",
   "metadata": {
    "execution": {
     "iopub.execute_input": "2022-12-15T14:43:02.088908Z",
     "iopub.status.busy": "2022-12-15T14:43:02.088462Z",
     "iopub.status.idle": "2022-12-15T14:43:02.094574Z",
     "shell.execute_reply": "2022-12-15T14:43:02.093964Z",
     "shell.execute_reply.started": "2022-12-15T14:43:02.088889Z"
    }
   },
   "outputs": [],
   "source": [
    "df_train, df_valid = train_test_split(df, test_size=0.3, random_state=42)\n",
    "df_valid, df_test = train_test_split(df_valid, test_size=0.33, random_state=42)"
   ]
  },
  {
   "cell_type": "code",
   "execution_count": 6,
   "id": "04d9cace-d09e-42f6-bd15-f02726f1537c",
   "metadata": {
    "execution": {
     "iopub.execute_input": "2022-12-15T14:43:02.095642Z",
     "iopub.status.busy": "2022-12-15T14:43:02.095455Z",
     "iopub.status.idle": "2022-12-15T14:43:02.129759Z",
     "shell.execute_reply": "2022-12-15T14:43:02.128958Z",
     "shell.execute_reply.started": "2022-12-15T14:43:02.095626Z"
    }
   },
   "outputs": [
    {
     "data": {
      "text/plain": [
       "((3150, 2), (904, 2), (446, 2))"
      ]
     },
     "execution_count": 6,
     "metadata": {},
     "output_type": "execute_result"
    }
   ],
   "source": [
    "df_train.shape, df_valid.shape, df_test.shape"
   ]
  },
  {
   "cell_type": "code",
   "execution_count": 7,
   "id": "31533a03-cf60-499a-826d-02eb491cddf8",
   "metadata": {
    "execution": {
     "iopub.execute_input": "2022-12-15T14:43:02.132021Z",
     "iopub.status.busy": "2022-12-15T14:43:02.131722Z",
     "iopub.status.idle": "2022-12-15T14:43:02.155119Z",
     "shell.execute_reply": "2022-12-15T14:43:02.154200Z",
     "shell.execute_reply.started": "2022-12-15T14:43:02.132002Z"
    }
   },
   "outputs": [],
   "source": [
    "train_transform = transforms.Compose(\n",
    "    [\n",
    "        transforms.RandomResizedCrop(128, scale=(0.8, 1.0)),\n",
    "        transforms.RandomHorizontalFlip(p=0.5),\n",
    "        transforms.RandomApply([transforms.ColorJitter(0.4, 0.4, 0.4, 0.1)], p=0.8),\n",
    "        transforms.RandomGrayscale(p=0.2),\n",
    "        transforms.ToTensor(),\n",
    "        transforms.Normalize([0.4914, 0.4822, 0.4465], [0.2023, 0.1994, 0.2010]),\n",
    "    ]\n",
    ")\n",
    "\n",
    "test_transform = transforms.Compose(\n",
    "    [\n",
    "        transforms.ToTensor(),\n",
    "        transforms.Normalize([0.4914, 0.4822, 0.4465], [0.2023, 0.1994, 0.2010]),\n",
    "    ]\n",
    ")\n",
    "\n",
    "\n",
    "class FaseDataset(torch.utils.data.Dataset):\n",
    "    def __init__(\n",
    "        self,\n",
    "        root: str,\n",
    "        size,\n",
    "        sample: pd.DataFrame,\n",
    "        transform: typing.Callable,\n",
    "    ):\n",
    "        self.root = root\n",
    "        self.size = size\n",
    "        self.ids = sample[\"id\"].values\n",
    "        self.targets = sample[\"glasses\"].values\n",
    "        self.transform = transform\n",
    "\n",
    "    def __len__(self):\n",
    "        return len(self.ids)\n",
    "\n",
    "    def __getitem__(self, index):\n",
    "        img, target = self.ids[index], self.targets[index]\n",
    "        img = Image.open(self.root.format(img))\n",
    "        img = img.resize(self.size, Image.Resampling.BILINEAR)\n",
    "\n",
    "        pos_1 = self.transform(img)\n",
    "        pos_2 = self.transform(img)\n",
    "\n",
    "        return pos_1, pos_2, target"
   ]
  },
  {
   "cell_type": "code",
   "execution_count": 8,
   "id": "9927efeb-c7dd-4524-9782-1dfd51169b82",
   "metadata": {
    "execution": {
     "iopub.execute_input": "2022-12-15T14:43:02.156339Z",
     "iopub.status.busy": "2022-12-15T14:43:02.155957Z",
     "iopub.status.idle": "2022-12-15T14:43:02.178555Z",
     "shell.execute_reply": "2022-12-15T14:43:02.177995Z",
     "shell.execute_reply.started": "2022-12-15T14:43:02.156320Z"
    }
   },
   "outputs": [],
   "source": [
    "im_size = (128, 128)\n",
    "batch_size = 128\n",
    "train_loader = torch.utils.data.DataLoader(\n",
    "    FaseDataset(f\"{root}/faces-spring-2020/faces-spring-2020/face-{{}}.png\", im_size, df_train, train_transform),\n",
    "    batch_size=batch_size,\n",
    "    shuffle=True,\n",
    "    num_workers=4,\n",
    "    pin_memory=True,\n",
    "    drop_last=False,\n",
    ")\n",
    "test_loader = torch.utils.data.DataLoader(\n",
    "    FaseDataset(f\"{root}/faces-spring-2020/faces-spring-2020/face-{{}}.png\", im_size, df_valid, test_transform),\n",
    "    batch_size=batch_size,\n",
    "    shuffle=True,\n",
    "    num_workers=4,\n",
    "    pin_memory=True,\n",
    "    drop_last=False,\n",
    ")"
   ]
  },
  {
   "cell_type": "code",
   "execution_count": 9,
   "id": "123d8997-76eb-432b-b17f-7671556e3b94",
   "metadata": {
    "execution": {
     "iopub.execute_input": "2022-12-15T14:43:02.179530Z",
     "iopub.status.busy": "2022-12-15T14:43:02.179334Z",
     "iopub.status.idle": "2022-12-15T14:43:02.197769Z",
     "shell.execute_reply": "2022-12-15T14:43:02.197241Z",
     "shell.execute_reply.started": "2022-12-15T14:43:02.179512Z"
    }
   },
   "outputs": [],
   "source": [
    "from torch import nn\n",
    "from torchvision import models\n",
    "\n",
    "class WideResnet50(nn.Module):\n",
    "    def __init__(self, num_classes, use_pre_trained=True):\n",
    "        super().__init__()\n",
    "\n",
    "        model = models.wide_resnet50_2(use_pre_trained)\n",
    "        self.num_classes = num_classes\n",
    "        self.features = nn.Sequential(*list(model.children())[:-1])\n",
    "        in_features = model.fc.in_features\n",
    "        self.classifier = nn.Sequential(\n",
    "            nn.Linear(in_features, num_classes, bias=True)\n",
    "        )\n",
    "        self.sigmoid = nn.Sigmoid()\n",
    "\n",
    "    def forward(self, x):\n",
    "        x = self.features(x)\n",
    "\n",
    "        out = torch.flatten(x, 1)\n",
    "\n",
    "        x = self.classifier(out)\n",
    "        if self.num_classes == 1:\n",
    "            x = self.sigmoid(x)\n",
    "\n",
    "        return F.normalize(out, dim=-1), x\n",
    "\n",
    "\n",
    "class ContrastiveLoss(torch.nn.Module):\n",
    "    def __init__(self, temperature, cuda):\n",
    "        super().__init__()\n",
    "        self.temperature = temperature\n",
    "        self.cuda = cuda\n",
    "\n",
    "    def get_negative_mask(self, batch_size):\n",
    "        negative_mask = torch.ones((batch_size, 2 * batch_size), dtype=bool)\n",
    "        for i in range(batch_size):\n",
    "            negative_mask[i, i] = 0\n",
    "            negative_mask[i, i + batch_size] = 0\n",
    "\n",
    "        negative_mask = torch.cat((negative_mask, negative_mask), 0)\n",
    "        return negative_mask\n",
    "\n",
    "    def forward(self, out_1, out_2):\n",
    "        batch_size = out_1.shape[0]\n",
    "\n",
    "        # neg score\n",
    "        out = torch.cat([out_1, out_2], dim=0)\n",
    "        neg = torch.exp(torch.mm(out, out.t().contiguous()) / self.temperature)\n",
    "        mask = self.get_negative_mask(batch_size)\n",
    "        if self.cuda:\n",
    "            mask = mask.cuda()\n",
    "        neg = neg.masked_select(mask).view(2 * batch_size, -1)\n",
    "\n",
    "        # pos score\n",
    "        pos = torch.exp(torch.sum(out_1 * out_2, dim=-1) / self.temperature)\n",
    "        pos = torch.cat([pos, pos], dim=0)\n",
    "\n",
    "        # estimator g()\n",
    "        Ng = neg.sum(dim=-1)\n",
    "\n",
    "        # contrastive loss\n",
    "        loss = (-torch.log(pos / (pos + Ng))).mean()\n",
    "\n",
    "        return loss"
   ]
  },
  {
   "cell_type": "code",
   "execution_count": 10,
   "id": "3c35157c-3948-47eb-84a2-bc336fbeabc0",
   "metadata": {
    "execution": {
     "iopub.execute_input": "2022-12-15T14:43:02.199011Z",
     "iopub.status.busy": "2022-12-15T14:43:02.198552Z",
     "iopub.status.idle": "2022-12-15T14:43:02.234870Z",
     "shell.execute_reply": "2022-12-15T14:43:02.234196Z",
     "shell.execute_reply.started": "2022-12-15T14:43:02.198992Z"
    }
   },
   "outputs": [],
   "source": [
    "def main(\n",
    "    *,\n",
    "    model,\n",
    "    criterion_cls,\n",
    "    criterion_contrastive,\n",
    "    optimizer,\n",
    "    writer,\n",
    "    train_loader,\n",
    "    valid_loader,\n",
    "    checkpoint_path,\n",
    "    cuda=True,\n",
    "    epochs=200,\n",
    "    alpha=0.1,\n",
    "):\n",
    "    if cuda:\n",
    "        model = model.cuda()\n",
    "    model = torch.nn.DataParallel(model)\n",
    "    step = 0\n",
    "    for epoch in range(1, epochs + 1):\n",
    "        epoch_alpha = alpha + (1.0 - alpha) * (epoch / epochs)\n",
    "        writer.add_scalar(\"train/alpha\", epoch_alpha, epoch)\n",
    "        model.train()\n",
    "        total_loss, total_num = 0.0, 0\n",
    "        for pos_1, pos_2, target in tqdm(train_loader, desc=f\"Train {epoch}\"):\n",
    "            if cuda:\n",
    "                pos_1 = pos_1.cuda(non_blocking=True)\n",
    "                pos_2 = pos_2.cuda(non_blocking=True)\n",
    "                target = target.cuda(non_blocking=True)\n",
    "            out_1, out_1_proba = model(pos_1)\n",
    "            out_2, out_2_proba = model(pos_2)\n",
    "\n",
    "            loss = epoch_alpha * (criterion_cls(out_1_proba, target) + criterion_cls(out_2_proba, target)) + (\n",
    "                1.0 - epoch_alpha\n",
    "            ) * criterion_contrastive(out_1, out_2)\n",
    "            writer.add_scalar(\"loss/train\", loss, step)\n",
    "            step += 1\n",
    "\n",
    "            optimizer.zero_grad()\n",
    "            loss.backward()\n",
    "            optimizer.step()\n",
    "\n",
    "            total_num += batch_size\n",
    "            total_loss += loss.item() * batch_size\n",
    "\n",
    "        train_loss = total_loss / total_num\n",
    "\n",
    "        if epoch % 1 == 0:\n",
    "            with torch.no_grad():\n",
    "                model.eval()\n",
    "                predicts = []\n",
    "                targets = []\n",
    "                for pos_1, pos_2, target in tqdm(valid_loader, desc=f\"Valid {epoch}\"):\n",
    "                    if cuda:\n",
    "                        pos_1 = pos_1.cuda(non_blocking=True)\n",
    "                    _, predict = model(pos_1)\n",
    "                    predicts.extend(predict.cpu().numpy())\n",
    "                    targets.extend(target.cpu().numpy())\n",
    "            predicts = np.stack(predicts)\n",
    "            targets = np.stack(targets)\n",
    "            writer.add_scalar(\"valid/f1w\", f1_score(targets, predicts.argmax(axis=1), average=\"weighted\"), epoch)\n",
    "            writer.add_scalar(\"valid/acc\", accuracy_score(targets, predicts.argmax(axis=1)), epoch)\n",
    "            writer.add_scalar(\n",
    "                \"valid/roc_auc\",\n",
    "                roc_auc_score(targets, scipy.special.softmax(predicts, axis=1)[:, 1]),\n",
    "                epoch,\n",
    "            )\n",
    "            del predicts, targets\n",
    "            torch.save(model.state_dict(), checkpoint_path.format(epoch))\n",
    "        writer.flush()\n",
    "        gc.collect()\n",
    "    writer.close()"
   ]
  },
  {
   "cell_type": "code",
   "execution_count": 11,
   "id": "543811e0-fe7c-4092-9e31-545b66b13ac7",
   "metadata": {
    "execution": {
     "iopub.execute_input": "2022-12-15T14:43:02.236143Z",
     "iopub.status.busy": "2022-12-15T14:43:02.235700Z",
     "iopub.status.idle": "2022-12-15T16:14:08.618577Z",
     "shell.execute_reply": "2022-12-15T16:14:08.617932Z",
     "shell.execute_reply.started": "2022-12-15T14:43:02.236124Z"
    },
    "tags": []
   },
   "outputs": [
    {
     "name": "stderr",
     "output_type": "stream",
     "text": [
      "\u001b[34m\u001b[1mwandb\u001b[0m: Currently logged in as: \u001b[33masciishell\u001b[0m (\u001b[33mmlao\u001b[0m). Use \u001b[1m`wandb login --relogin`\u001b[0m to force relogin\n"
     ]
    },
    {
     "data": {
      "text/html": [
       "wandb version 0.13.7 is available!  To upgrade, please run:\n",
       " $ pip install wandb --upgrade"
      ],
      "text/plain": [
       "<IPython.core.display.HTML object>"
      ]
     },
     "metadata": {},
     "output_type": "display_data"
    },
    {
     "data": {
      "text/html": [
       "Tracking run with wandb version 0.13.4"
      ],
      "text/plain": [
       "<IPython.core.display.HTML object>"
      ]
     },
     "metadata": {},
     "output_type": "display_data"
    },
    {
     "data": {
      "text/html": [
       "Run data is saved locally in <code>glass-wideresnet-init=True-cls_w=0.5-bs=128/wandb/run-20221215_144308-2e7wyo0w</code>"
      ],
      "text/plain": [
       "<IPython.core.display.HTML object>"
      ]
     },
     "metadata": {},
     "output_type": "display_data"
    },
    {
     "data": {
      "text/html": [
       "Syncing run <strong><a href=\"https://wandb.ai/mlao/glasses_cv/runs/2e7wyo0w\" target=\"_blank\">glass-wideresnet-init=True-cls_w=0.5-bs=128</a></strong> to <a href=\"https://wandb.ai/mlao/glasses_cv\" target=\"_blank\">Weights & Biases</a> (<a href=\"https://wandb.me/run\" target=\"_blank\">docs</a>)<br/>"
      ],
      "text/plain": [
       "<IPython.core.display.HTML object>"
      ]
     },
     "metadata": {},
     "output_type": "display_data"
    },
    {
     "name": "stderr",
     "output_type": "stream",
     "text": [
      "2022-12-15 14:43:09.216318: I tensorflow/core/platform/cpu_feature_guard.cc:193] This TensorFlow binary is optimized with oneAPI Deep Neural Network Library (oneDNN) to use the following CPU instructions in performance-critical operations:  AVX2 AVX512F AVX512_VNNI FMA\n",
      "To enable them in other operations, rebuild TensorFlow with the appropriate compiler flags.\n",
      "2022-12-15 14:43:13.977811: I tensorflow/core/util/util.cc:169] oneDNN custom operations are on. You may see slightly different numerical results due to floating-point round-off errors from different computation orders. To turn them off, set the environment variable `TF_ENABLE_ONEDNN_OPTS=0`.\n",
      "2022-12-15 14:43:16.148566: W tensorflow/stream_executor/platform/default/dso_loader.cc:64] Could not load dynamic library 'libcudart.so.11.0'; dlerror: libcudart.so.11.0: cannot open shared object file: No such file or directory; LD_LIBRARY_PATH: /home/asciishell/project/venv3.10/lib/python3.10/site-packages/cv2/../../lib64:\n",
      "2022-12-15 14:43:16.148599: I tensorflow/stream_executor/cuda/cudart_stub.cc:29] Ignore above cudart dlerror if you do not have a GPU set up on your machine.\n",
      "2022-12-15 14:43:16.831377: E tensorflow/stream_executor/cuda/cuda_blas.cc:2981] Unable to register cuBLAS factory: Attempting to register factory for plugin cuBLAS when one has already been registered\n",
      "2022-12-15 14:43:31.931123: W tensorflow/stream_executor/platform/default/dso_loader.cc:64] Could not load dynamic library 'libnvinfer.so.7'; dlerror: libnvinfer.so.7: cannot open shared object file: No such file or directory; LD_LIBRARY_PATH: /home/asciishell/project/venv3.10/lib/python3.10/site-packages/cv2/../../lib64:\n",
      "2022-12-15 14:43:31.931537: W tensorflow/stream_executor/platform/default/dso_loader.cc:64] Could not load dynamic library 'libnvinfer_plugin.so.7'; dlerror: libnvinfer_plugin.so.7: cannot open shared object file: No such file or directory; LD_LIBRARY_PATH: /home/asciishell/project/venv3.10/lib/python3.10/site-packages/cv2/../../lib64:\n",
      "2022-12-15 14:43:31.931550: W tensorflow/compiler/tf2tensorrt/utils/py_utils.cc:38] TF-TRT Warning: Cannot dlopen some TensorRT libraries. If you would like to use Nvidia GPU with TensorRT, please make sure the missing libraries mentioned above are installed properly.\n",
      "2022-12-15 14:43:41.487409: I tensorflow/core/platform/cpu_feature_guard.cc:193] This TensorFlow binary is optimized with oneAPI Deep Neural Network Library (oneDNN) to use the following CPU instructions in performance-critical operations:  AVX2 AVX512F AVX512_VNNI FMA\n",
      "To enable them in other operations, rebuild TensorFlow with the appropriate compiler flags.\n",
      "2022-12-15 14:43:41.631406: I tensorflow/core/util/util.cc:169] oneDNN custom operations are on. You may see slightly different numerical results due to floating-point round-off errors from different computation orders. To turn them off, set the environment variable `TF_ENABLE_ONEDNN_OPTS=0`.\n",
      "2022-12-15 14:43:41.636911: W tensorflow/stream_executor/platform/default/dso_loader.cc:64] Could not load dynamic library 'libcudart.so.11.0'; dlerror: libcudart.so.11.0: cannot open shared object file: No such file or directory; LD_LIBRARY_PATH: /home/asciishell/project/venv3.10/lib/python3.10/site-packages/cv2/../../lib64:\n",
      "2022-12-15 14:43:41.636940: I tensorflow/stream_executor/cuda/cudart_stub.cc:29] Ignore above cudart dlerror if you do not have a GPU set up on your machine.\n",
      "2022-12-15 14:43:41.664785: E tensorflow/stream_executor/cuda/cuda_blas.cc:2981] Unable to register cuBLAS factory: Attempting to register factory for plugin cuBLAS when one has already been registered\n",
      "2022-12-15 14:43:42.257346: W tensorflow/stream_executor/platform/default/dso_loader.cc:64] Could not load dynamic library 'libnvinfer.so.7'; dlerror: libnvinfer.so.7: cannot open shared object file: No such file or directory; LD_LIBRARY_PATH: /home/asciishell/project/venv3.10/lib/python3.10/site-packages/cv2/../../lib64:\n",
      "2022-12-15 14:43:42.257437: W tensorflow/stream_executor/platform/default/dso_loader.cc:64] Could not load dynamic library 'libnvinfer_plugin.so.7'; dlerror: libnvinfer_plugin.so.7: cannot open shared object file: No such file or directory; LD_LIBRARY_PATH: /home/asciishell/project/venv3.10/lib/python3.10/site-packages/cv2/../../lib64:\n",
      "2022-12-15 14:43:42.257444: W tensorflow/compiler/tf2tensorrt/utils/py_utils.cc:38] TF-TRT Warning: Cannot dlopen some TensorRT libraries. If you would like to use Nvidia GPU with TensorRT, please make sure the missing libraries mentioned above are installed properly.\n"
     ]
    },
    {
     "name": "stdout",
     "output_type": "stream",
     "text": [
      "Start glass-wideresnet-init=True-cls_w=0.5-bs=128\n"
     ]
    },
    {
     "data": {
      "application/vnd.jupyter.widget-view+json": {
       "model_id": "db7fa820b4244f71b73629d103a73e7c",
       "version_major": 2,
       "version_minor": 0
      },
      "text/plain": [
       "Train 1:   0%|          | 0/25 [00:00<?, ?it/s]"
      ]
     },
     "metadata": {},
     "output_type": "display_data"
    },
    {
     "data": {
      "application/vnd.jupyter.widget-view+json": {
       "model_id": "e344701325a648d6b359687e176b38ab",
       "version_major": 2,
       "version_minor": 0
      },
      "text/plain": [
       "Valid 1:   0%|          | 0/8 [00:00<?, ?it/s]"
      ]
     },
     "metadata": {},
     "output_type": "display_data"
    },
    {
     "data": {
      "application/vnd.jupyter.widget-view+json": {
       "model_id": "a127d9e3d46449778e3a1bfce5a87cb9",
       "version_major": 2,
       "version_minor": 0
      },
      "text/plain": [
       "Train 2:   0%|          | 0/25 [00:00<?, ?it/s]"
      ]
     },
     "metadata": {},
     "output_type": "display_data"
    },
    {
     "data": {
      "application/vnd.jupyter.widget-view+json": {
       "model_id": "74a660a6209841f48d3808dd06d010ef",
       "version_major": 2,
       "version_minor": 0
      },
      "text/plain": [
       "Valid 2:   0%|          | 0/8 [00:00<?, ?it/s]"
      ]
     },
     "metadata": {},
     "output_type": "display_data"
    },
    {
     "data": {
      "application/vnd.jupyter.widget-view+json": {
       "model_id": "95962b9f54f540f3b75f10cb1ab5089c",
       "version_major": 2,
       "version_minor": 0
      },
      "text/plain": [
       "Train 3:   0%|          | 0/25 [00:00<?, ?it/s]"
      ]
     },
     "metadata": {},
     "output_type": "display_data"
    },
    {
     "data": {
      "application/vnd.jupyter.widget-view+json": {
       "model_id": "373aee824174489cb15e838149a28b78",
       "version_major": 2,
       "version_minor": 0
      },
      "text/plain": [
       "Valid 3:   0%|          | 0/8 [00:00<?, ?it/s]"
      ]
     },
     "metadata": {},
     "output_type": "display_data"
    },
    {
     "data": {
      "application/vnd.jupyter.widget-view+json": {
       "model_id": "40dae6c51b5d4505ada9dbe6144ecfad",
       "version_major": 2,
       "version_minor": 0
      },
      "text/plain": [
       "Train 4:   0%|          | 0/25 [00:00<?, ?it/s]"
      ]
     },
     "metadata": {},
     "output_type": "display_data"
    },
    {
     "data": {
      "application/vnd.jupyter.widget-view+json": {
       "model_id": "5ac359d434f14f49b05eba751d204af5",
       "version_major": 2,
       "version_minor": 0
      },
      "text/plain": [
       "Valid 4:   0%|          | 0/8 [00:00<?, ?it/s]"
      ]
     },
     "metadata": {},
     "output_type": "display_data"
    },
    {
     "data": {
      "application/vnd.jupyter.widget-view+json": {
       "model_id": "f2a2983afea14fbc9a7a67c0e6084873",
       "version_major": 2,
       "version_minor": 0
      },
      "text/plain": [
       "Train 5:   0%|          | 0/25 [00:00<?, ?it/s]"
      ]
     },
     "metadata": {},
     "output_type": "display_data"
    },
    {
     "data": {
      "application/vnd.jupyter.widget-view+json": {
       "model_id": "ddbe291524b647fe986f974118eb590a",
       "version_major": 2,
       "version_minor": 0
      },
      "text/plain": [
       "Valid 5:   0%|          | 0/8 [00:00<?, ?it/s]"
      ]
     },
     "metadata": {},
     "output_type": "display_data"
    },
    {
     "data": {
      "application/vnd.jupyter.widget-view+json": {
       "model_id": "ed8b5406a8ef47fab4f7d73716422621",
       "version_major": 2,
       "version_minor": 0
      },
      "text/plain": [
       "Train 6:   0%|          | 0/25 [00:00<?, ?it/s]"
      ]
     },
     "metadata": {},
     "output_type": "display_data"
    },
    {
     "data": {
      "application/vnd.jupyter.widget-view+json": {
       "model_id": "63dc40df14a44945af64c36e67b2a4ce",
       "version_major": 2,
       "version_minor": 0
      },
      "text/plain": [
       "Valid 6:   0%|          | 0/8 [00:00<?, ?it/s]"
      ]
     },
     "metadata": {},
     "output_type": "display_data"
    },
    {
     "data": {
      "application/vnd.jupyter.widget-view+json": {
       "model_id": "0048f1d17ebe4f8aaf59112a9dd41c98",
       "version_major": 2,
       "version_minor": 0
      },
      "text/plain": [
       "Train 7:   0%|          | 0/25 [00:00<?, ?it/s]"
      ]
     },
     "metadata": {},
     "output_type": "display_data"
    },
    {
     "data": {
      "application/vnd.jupyter.widget-view+json": {
       "model_id": "13b0166c2e69464c893d533018be8194",
       "version_major": 2,
       "version_minor": 0
      },
      "text/plain": [
       "Valid 7:   0%|          | 0/8 [00:00<?, ?it/s]"
      ]
     },
     "metadata": {},
     "output_type": "display_data"
    },
    {
     "data": {
      "application/vnd.jupyter.widget-view+json": {
       "model_id": "35536e50bd604eaabdedf72dc43fe988",
       "version_major": 2,
       "version_minor": 0
      },
      "text/plain": [
       "Train 8:   0%|          | 0/25 [00:00<?, ?it/s]"
      ]
     },
     "metadata": {},
     "output_type": "display_data"
    },
    {
     "data": {
      "application/vnd.jupyter.widget-view+json": {
       "model_id": "fb3d48688eb24de39c50beede74ae3cb",
       "version_major": 2,
       "version_minor": 0
      },
      "text/plain": [
       "Valid 8:   0%|          | 0/8 [00:00<?, ?it/s]"
      ]
     },
     "metadata": {},
     "output_type": "display_data"
    },
    {
     "data": {
      "application/vnd.jupyter.widget-view+json": {
       "model_id": "15db9cf0011745a5ad77dca6d34f18f6",
       "version_major": 2,
       "version_minor": 0
      },
      "text/plain": [
       "Train 9:   0%|          | 0/25 [00:00<?, ?it/s]"
      ]
     },
     "metadata": {},
     "output_type": "display_data"
    },
    {
     "data": {
      "application/vnd.jupyter.widget-view+json": {
       "model_id": "5d1a248977064d678a4c40aa9c9b7bb4",
       "version_major": 2,
       "version_minor": 0
      },
      "text/plain": [
       "Valid 9:   0%|          | 0/8 [00:00<?, ?it/s]"
      ]
     },
     "metadata": {},
     "output_type": "display_data"
    },
    {
     "data": {
      "application/vnd.jupyter.widget-view+json": {
       "model_id": "b529d5a0449449d2a9b1dfd3c2bf1a30",
       "version_major": 2,
       "version_minor": 0
      },
      "text/plain": [
       "Train 10:   0%|          | 0/25 [00:00<?, ?it/s]"
      ]
     },
     "metadata": {},
     "output_type": "display_data"
    },
    {
     "data": {
      "application/vnd.jupyter.widget-view+json": {
       "model_id": "2084ee9e61b4453c85ffcad8c82505b0",
       "version_major": 2,
       "version_minor": 0
      },
      "text/plain": [
       "Valid 10:   0%|          | 0/8 [00:00<?, ?it/s]"
      ]
     },
     "metadata": {},
     "output_type": "display_data"
    },
    {
     "data": {
      "text/html": [
       "Waiting for W&B process to finish... <strong style=\"color:green\">(success).</strong>"
      ],
      "text/plain": [
       "<IPython.core.display.HTML object>"
      ]
     },
     "metadata": {},
     "output_type": "display_data"
    },
    {
     "data": {
      "text/html": [
       "<style>\n",
       "    table.wandb td:nth-child(1) { padding: 0 10px; text-align: left ; width: auto;} td:nth-child(2) {text-align: left ; width: 100%}\n",
       "    .wandb-row { display: flex; flex-direction: row; flex-wrap: wrap; justify-content: flex-start; width: 100% }\n",
       "    .wandb-col { display: flex; flex-direction: column; flex-basis: 100%; flex: 1; padding: 10px; }\n",
       "    </style>\n",
       "<div class=\"wandb-row\"><div class=\"wandb-col\"><h3>Run history:</h3><br/><table class=\"wandb\"><tr><td>global_step</td><td>▁▁▁▁▂▂▂▂▂▃▃▃▃▃▃▄▄▄▄▄▅▅▅▅▅▅▆▆▆▆▆▇▇▇▇▇▇███</td></tr><tr><td>loss/train</td><td>█▅▅▅▄▄▄▄▄▄▄▄▃▃▃▃▃▃▃▃▃▃▃▃▂▂▂▂▂▂▂▂▁▂▂▂▁▁▁▁</td></tr><tr><td>train/alpha</td><td>▁▂▃▃▄▅▆▆▇█</td></tr><tr><td>valid/acc</td><td>▆▅█▁█▆▇▆▅▆</td></tr><tr><td>valid/f1w</td><td>▆▅█▁█▆█▆▅▆</td></tr><tr><td>valid/roc_auc</td><td>▃▄▅▅▅▅█▅▁▃</td></tr></table><br/></div><div class=\"wandb-col\"><h3>Run summary:</h3><br/><table class=\"wandb\"><tr><td>global_step</td><td>10</td></tr><tr><td>loss/train</td><td>0.42184</td></tr><tr><td>train/alpha</td><td>1.0</td></tr><tr><td>valid/acc</td><td>0.8927</td></tr><tr><td>valid/f1w</td><td>0.89133</td></tr><tr><td>valid/roc_auc</td><td>0.94611</td></tr></table><br/></div></div>"
      ],
      "text/plain": [
       "<IPython.core.display.HTML object>"
      ]
     },
     "metadata": {},
     "output_type": "display_data"
    },
    {
     "data": {
      "text/html": [
       "Synced <strong style=\"color:#cdcd00\">glass-wideresnet-init=True-cls_w=0.5-bs=128</strong>: <a href=\"https://wandb.ai/mlao/glasses_cv/runs/2e7wyo0w\" target=\"_blank\">https://wandb.ai/mlao/glasses_cv/runs/2e7wyo0w</a><br/>Synced 5 W&B file(s), 0 media file(s), 0 artifact file(s) and 1 other file(s)"
      ],
      "text/plain": [
       "<IPython.core.display.HTML object>"
      ]
     },
     "metadata": {},
     "output_type": "display_data"
    },
    {
     "data": {
      "text/html": [
       "Find logs at: <code>glass-wideresnet-init=True-cls_w=0.5-bs=128/wandb/run-20221215_144308-2e7wyo0w/logs</code>"
      ],
      "text/plain": [
       "<IPython.core.display.HTML object>"
      ]
     },
     "metadata": {},
     "output_type": "display_data"
    }
   ],
   "source": [
    "def main3():\n",
    "    cuda = False\n",
    "    epochs = 10\n",
    "    model_arch = \"wideresnet\"\n",
    "    init = True\n",
    "    cls_w = 0.5\n",
    "    run = f\"glass-{model_arch}-init={init}-cls_w={cls_w}-bs={batch_size}\"\n",
    "    os.makedirs(run, exist_ok=True)\n",
    "    wandb.init(\n",
    "        project=\"glasses_cv\",\n",
    "        dir=run,\n",
    "        name=run,\n",
    "        config={\n",
    "            \"model\": model_arch,\n",
    "            \"init\": init,\n",
    "            \"classification_weight\": cls_w,\n",
    "            \"batch_size\": batch_size,\n",
    "            \"epochs\": epochs,\n",
    "        },\n",
    "    )\n",
    "    wandb.tensorboard.patch(root_logdir=run)\n",
    "    writer = SummaryWriter(run)\n",
    "    try:\n",
    "        model = WideResnet50(2, init)\n",
    "        criterion_cls = torch.nn.CrossEntropyLoss()\n",
    "        criterion_contrastive = ContrastiveLoss(0.5, cuda)\n",
    "        optimizer = torch.optim.Adam(model.parameters(), lr=1e-3, weight_decay=1e-6)\n",
    "\n",
    "        print(\"Start\", run)\n",
    "        main(\n",
    "            model=model,\n",
    "            criterion_cls=criterion_cls,\n",
    "            criterion_contrastive=criterion_contrastive,\n",
    "            optimizer=optimizer,\n",
    "            writer=writer,\n",
    "            train_loader=train_loader,\n",
    "            valid_loader=test_loader,\n",
    "            checkpoint_path=f\"{run}/model_{{}}.pt\",\n",
    "            cuda=cuda,\n",
    "            epochs=epochs,\n",
    "            alpha=cls_w,\n",
    "        )\n",
    "    finally:\n",
    "        writer.close()\n",
    "        wandb.finish()\n",
    "        wandb.tensorboard.unpatch()\n",
    "\n",
    "\n",
    "if __name__ == \"__main__\":\n",
    "    main3()"
   ]
  },
  {
   "cell_type": "code",
   "execution_count": 13,
   "id": "83b152ec-9052-406f-9136-936b07288e1c",
   "metadata": {
    "execution": {
     "iopub.execute_input": "2022-12-15T16:24:03.719058Z",
     "iopub.status.busy": "2022-12-15T16:24:03.717987Z",
     "iopub.status.idle": "2022-12-15T16:24:04.625428Z",
     "shell.execute_reply": "2022-12-15T16:24:04.624706Z",
     "shell.execute_reply.started": "2022-12-15T16:24:03.719034Z"
    },
    "tags": []
   },
   "outputs": [],
   "source": [
    "model = WideResnet50(2, False)\n",
    "model = torch.nn.DataParallel(model)\n",
    "model.load_state_dict(torch.load('glass-wideresnet-init=True-cls_w=0.5-bs=128/model_7.pt'))\n",
    "model.eval();"
   ]
  },
  {
   "cell_type": "code",
   "execution_count": 14,
   "id": "7e8d27ef-faea-4715-8e16-9ecb65228e19",
   "metadata": {
    "execution": {
     "iopub.execute_input": "2022-12-15T16:24:06.113071Z",
     "iopub.status.busy": "2022-12-15T16:24:06.112712Z",
     "iopub.status.idle": "2022-12-15T16:24:06.117886Z",
     "shell.execute_reply": "2022-12-15T16:24:06.117172Z",
     "shell.execute_reply.started": "2022-12-15T16:24:06.113047Z"
    },
    "tags": []
   },
   "outputs": [],
   "source": [
    "oos_loader = torch.utils.data.DataLoader(\n",
    "    FaseDataset(f\"{root}/faces-spring-2020/faces-spring-2020/face-{{}}.png\", im_size, df_test, test_transform),\n",
    "    batch_size=batch_size,\n",
    "    shuffle=True,\n",
    "    num_workers=4,\n",
    "    pin_memory=True,\n",
    "    drop_last=False,\n",
    ")"
   ]
  },
  {
   "cell_type": "code",
   "execution_count": 15,
   "id": "69c0cf7c-5f43-4bdf-96d2-c32a88e31f63",
   "metadata": {
    "execution": {
     "iopub.execute_input": "2022-12-15T16:24:17.487595Z",
     "iopub.status.busy": "2022-12-15T16:24:17.486910Z",
     "iopub.status.idle": "2022-12-15T16:24:37.300086Z",
     "shell.execute_reply": "2022-12-15T16:24:37.298965Z",
     "shell.execute_reply.started": "2022-12-15T16:24:17.487570Z"
    },
    "tags": []
   },
   "outputs": [
    {
     "data": {
      "application/vnd.jupyter.widget-view+json": {
       "model_id": "83352c7045964bcba32fa032c7dc11cb",
       "version_major": 2,
       "version_minor": 0
      },
      "text/plain": [
       "Test:   0%|          | 0/4 [00:00<?, ?it/s]"
      ]
     },
     "metadata": {},
     "output_type": "display_data"
    },
    {
     "name": "stdout",
     "output_type": "stream",
     "text": [
      "f1 [0.85043988 0.90744102]\n",
      "f1 macro 0.8789404495159427\n",
      "f1 weighted 0.886736568690372\n",
      "acc 0.8856502242152466\n",
      "roc_auc 0.9649191444966093\n"
     ]
    }
   ],
   "source": [
    "cuda = False\n",
    "with torch.no_grad():\n",
    "    model.eval()\n",
    "    predicts = []\n",
    "    targets = []\n",
    "    for pos_1, pos_2, target in tqdm(oos_loader, desc=f\"Test\"):\n",
    "        if cuda:\n",
    "            pos_1 = pos_1.cuda(non_blocking=True)\n",
    "        _, predict = model(pos_1)\n",
    "        predicts.extend(predict.cpu().numpy())\n",
    "        targets.extend(target.cpu().numpy())\n",
    "predicts = np.stack(predicts)\n",
    "targets = np.stack(targets)\n",
    "print(\"f1\", f1_score(targets, predicts.argmax(axis=1), average=None))\n",
    "print(\"f1 macro\", f1_score(targets, predicts.argmax(axis=1), average='macro'))\n",
    "print(\"f1 weighted\", f1_score(targets, predicts.argmax(axis=1), average='weighted'))\n",
    "\n",
    "print(\"acc\", accuracy_score(targets, predicts.argmax(axis=1)))\n",
    "print(\"roc_auc\", roc_auc_score(targets, scipy.special.softmax(predicts, axis=1)[:, 1]))"
   ]
  },
  {
   "cell_type": "code",
   "execution_count": null,
   "id": "d6032707-dd12-4257-b95c-5159b28f023b",
   "metadata": {},
   "outputs": [],
   "source": []
  }
 ],
 "metadata": {
  "kernelspec": {
   "display_name": "Python 3 (ipykernel)",
   "language": "python",
   "name": "python3"
  },
  "language_info": {
   "codemirror_mode": {
    "name": "ipython",
    "version": 3
   },
   "file_extension": ".py",
   "mimetype": "text/x-python",
   "name": "python",
   "nbconvert_exporter": "python",
   "pygments_lexer": "ipython3",
   "version": "3.10.8"
  }
 },
 "nbformat": 4,
 "nbformat_minor": 5
}
